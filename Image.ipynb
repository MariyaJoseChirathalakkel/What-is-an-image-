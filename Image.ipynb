{
 "cells": [
  {
   "cell_type": "code",
   "execution_count": 1,
   "metadata": {},
   "outputs": [
    {
     "name": "stdout",
     "output_type": "stream",
     "text": [
      "('Heigt', 585)\n",
      "('Width', 784)\n",
      "('Number of channels', 3)\n"
     ]
    }
   ],
   "source": [
    "import numpy as np \n",
    "import cv2 \n",
    "\n",
    "# Read image\n",
    "image_path = \"/home/Pictures/Image1.jpg\"\n",
    "image = cv2.imread(image_path)\n",
    "\n",
    "# Get the shape of the image \n",
    "Height,Width,Channel = image.shape\n",
    "print('Heigt',Height)\n",
    "print('Width',Width)\n",
    "print('Number of channels',Channel)\n",
    "\n",
    "# Create 3 empty matrices with the same shape of the image\n",
    "Red = np.zeros((Height,Width,Channel),np.uint8)\n",
    "Green = np.zeros((Height,Width,Channel),np.uint8)\n",
    "Blue = np.zeros((Height,Width,Channel),np.uint8)\n",
    "\n",
    "# Store the Red Green and Blue values from the image to the corresponding empty matrices\n",
    "Red[:,:,2] = image[:,:,2]\n",
    "Green[:,:,1] = image[:,:,1]\n",
    "Blue[:,:,0] = image[:,:,0]\n",
    "\n",
    "# Disply the image matrices \n",
    "cv2.imshow('Image',image)\n",
    "cv2.imshow('Red Pixels',Red)\n",
    "cv2.imshow('Green Pixels',Green)\n",
    "cv2.imshow('Blue Pixels',Blue)\n",
    "cv2.waitKey(0) & 0xFF\n",
    "cv2.destroyAllWindows() \n"
   ]
  },
  {
   "cell_type": "code",
   "execution_count": null,
   "metadata": {},
   "outputs": [],
   "source": []
  }
 ],
 "metadata": {
  "kernelspec": {
   "display_name": "Python 3",
   "language": "python",
   "name": "python3"
  },
  "language_info": {
   "codemirror_mode": {
    "name": "ipython",
    "version": 2
   },
   "file_extension": ".py",
   "mimetype": "text/x-python",
   "name": "python",
   "nbconvert_exporter": "python",
   "pygments_lexer": "ipython2",
   "version": "2.7.18"
  }
 },
 "nbformat": 4,
 "nbformat_minor": 2
}
