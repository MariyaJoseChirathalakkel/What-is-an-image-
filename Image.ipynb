{
 "cells": [
  {
   "cell_type": "markdown",
   "metadata": {},
   "source": [
    "### Read Images Using OpenCV "
   ]
  },
  {
   "cell_type": "code",
   "execution_count": 1,
   "metadata": {},
   "outputs": [
    {
     "name": "stdout",
     "output_type": "stream",
     "text": [
      "('Heigt', 585)\n",
      "('Width', 784)\n",
      "('Number of channels', 3)\n"
     ]
    }
   ],
   "source": [
    "import numpy as np \n",
    "import cv2 \n",
    "\n",
    "# Read image\n",
    "image_path = \"/home/Pictures/Image1.jpg\"\n",
    "image = cv2.imread(image_path)\n",
    "\n",
    "# Get the shape of the image \n",
    "Height,Width,Channel = image.shape\n",
    "print('Heigt',Height)\n",
    "print('Width',Width)\n",
    "print('Number of channels',Channel)\n",
    "\n",
    "# Create 3 empty matrices with the same shape of the image\n",
    "Red = np.zeros((Height,Width,Channel),np.uint8)\n",
    "Green = np.zeros((Height,Width,Channel),np.uint8)\n",
    "Blue = np.zeros((Height,Width,Channel),np.uint8)\n",
    "\n",
    "# Store the Red Green and Blue values from the image to the corresponding empty matrices\n",
    "Red[:,:,2] = image[:,:,2]\n",
    "Green[:,:,1] = image[:,:,1]\n",
    "Blue[:,:,0] = image[:,:,0]\n",
    "\n",
    "# Disply the image matrices \n",
    "cv2.imshow('Image',image)\n",
    "cv2.imshow('Red Pixels',Red)\n",
    "cv2.imshow('Green Pixels',Green)\n",
    "cv2.imshow('Blue Pixels',Blue)\n",
    "cv2.waitKey(0) & 0xFF\n",
    "cv2.destroyAllWindows() \n"
   ]
  },
  {
   "cell_type": "markdown",
   "metadata": {},
   "source": [
    "### Basic operations with image\n",
    "\n",
    "#### 1.Resize image "
   ]
  },
  {
   "cell_type": "code",
   "execution_count": null,
   "metadata": {},
   "outputs": [],
   "source": [
    "# Import necessary packages\n",
    "\n",
    "import numpy as np \n",
    "import cv2 \n",
    "\n",
    "# Read image\n",
    "image_path = \"/home/lenovo/Pictures/Screenshot from 2020-08-27 10-28-12.png\"\n",
    "\n",
    "image = cv2.imread(image_path)\n",
    "\n",
    "#Get the shape of the original image \n",
    "original_shape = image.shape \n",
    "print('Original image shape',original_shape)\n",
    "\n",
    "# Resize the image and get the shape of the resized image \n",
    "resize_image = cv2.resize(image, (1050, 1610)) \n",
    "resized_image_shape = resize_image.shape\n",
    "print('Resized image shape',resized_image_shape )\n"
   ]
  },
  {
   "cell_type": "markdown",
   "metadata": {},
   "source": [
    "#### 2.Covert image to gray scale "
   ]
  },
  {
   "cell_type": "code",
   "execution_count": null,
   "metadata": {},
   "outputs": [],
   "source": [
    "import numpy as np \n",
    "import cv2 \n",
    "\n",
    "# Read image\n",
    "image_path = \"/home/lenovo/Pictures/Screenshot from 2020-08-27 10-28-12.png\"\n",
    "image = cv2.imread(image_path)\n",
    "\n",
    "#Convert image into gray scale\n",
    "gray = cv2.cvtColor(image, cv2.COLOR_BGR2GRAY)\n",
    "\n",
    "#Display the original and gray scale image \n",
    "cv2.imshow('Original Image',image)\n",
    "cv2.imshow('Gray scale image',gray)\n",
    "cv2.waitKey(0) & 0xFF\n",
    "cv2.destroyAllWindows() \n"
   ]
  },
  {
   "cell_type": "code",
   "execution_count": null,
   "metadata": {},
   "outputs": [],
   "source": []
  }
 ],
 "metadata": {
  "kernelspec": {
   "display_name": "Python 3",
   "language": "python",
   "name": "python3"
  },
  "language_info": {
   "codemirror_mode": {
    "name": "ipython",
    "version": 2
   },
   "file_extension": ".py",
   "mimetype": "text/x-python",
   "name": "python",
   "nbconvert_exporter": "python",
   "pygments_lexer": "ipython2",
   "version": "2.7.18"
  }
 },
 "nbformat": 4,
 "nbformat_minor": 2
}
